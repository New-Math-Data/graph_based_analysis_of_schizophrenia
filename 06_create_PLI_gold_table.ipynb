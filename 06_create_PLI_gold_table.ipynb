{
 "cells": [
  {
   "cell_type": "markdown",
   "metadata": {
    "application/vnd.databricks.v1+cell": {
     "cellMetadata": {},
     "inputWidgets": {},
     "nuid": "0c4727e0-5821-4c7b-85e7-b882c457df9e",
     "showTitle": false,
     "title": ""
    }
   },
   "source": [
    "### Overview - Graphing brain connectivity in schizophrenia from EEG data - Create PLI Graphs and Gold Table\n",
    "\n",
    "EEG analysis was carried out using:\n",
    "1. the raw EEG data, \n",
    "as well as the re-referenced data: \n",
    "2. the Average Reference Method and\n",
    "3. the Zero Reference Method.\n",
    "This allowed us to explore how the choice of reference electrode impacts connectivity outcomes.\n",
    "\n",
    "EEG data were analyzed using three connectivity methods: Phase-Locking Value (PLV), Phase-Lag Index (PLI), and Directed Transfer Function (DTF), and statistical indices based on graph theory. \n",
    "\n",
    "##### In this notebook we will:\n",
    "  * Graph analysis of EEG data measuring connectivity using three connectivity measures:\n",
    "    * Directed Transfer Function (DTF)\n",
    "    * Phase-Locking Value (PLV)\n",
    "    * Phase-Lag Index (PLI)\n",
    "##### This Notebook will use Phase-Locking Value (PLV)"
   ]
  },
  {
   "cell_type": "code",
   "execution_count": 0,
   "metadata": {
    "application/vnd.databricks.v1+cell": {
     "cellMetadata": {
      "byteLimit": 2048000,
      "rowLimit": 10000
     },
     "inputWidgets": {},
     "nuid": "9f52fc8e-c49f-4f1e-b502-68150b56ca27",
     "showTitle": false,
     "title": ""
    }
   },
   "outputs": [],
   "source": [
    "# Load the data from the Butterworth Filtered Data REST Tables\n",
    "#pt_to_display = ['s11', 'h11'] if the gold tables only include patients of interest no need to select here\n",
    "band_names = [\"delta\",\"theta\", \"alpha\", \"beta\", \"gamma\"]\n",
    "\n",
    "df_bands_rest = {}\n",
    "# Create Pandas DataFrames\n",
    "for band in band_names:\n",
    "    df_bands_rest[band] = spark.sql(f\"SELECT * FROM main.solution_accelerator.butter_rest_{band}_gold ORDER BY time ASC\")\n",
    "\n",
    "display(df_bands_rest[\"delta\"])\n",
    "unique_patient_ids = df_bands_rest[band].select(\"patient_id\").distinct().toPandas()['patient_id'].values\n",
    "display(unique_patient_ids)"
   ]
  },
  {
   "cell_type": "code",
   "execution_count": 0,
   "metadata": {
    "application/vnd.databricks.v1+cell": {
     "cellMetadata": {
      "byteLimit": 2048000,
      "rowLimit": 10000
     },
     "inputWidgets": {},
     "nuid": "f04aa7e4-4be2-4e00-b222-81905c3fa4f0",
     "showTitle": false,
     "title": ""
    }
   },
   "outputs": [],
   "source": [
    "!pip install networkx"
   ]
  },
  {
   "cell_type": "code",
   "execution_count": 0,
   "metadata": {
    "application/vnd.databricks.v1+cell": {
     "cellMetadata": {
      "byteLimit": 2048000,
      "rowLimit": 10000
     },
     "inputWidgets": {},
     "nuid": "4e53cf50-a89a-4219-b58c-a5b56fe8d9dc",
     "showTitle": false,
     "title": ""
    }
   },
   "outputs": [],
   "source": [
    "from scipy.signal import hilbert\n",
    "import numpy as np\n",
    "import pandas as pd\n",
    "from pyspark.sql.functions import udf\n",
    "from pyspark.sql.types import FloatType\n",
    "\n",
    "# define a couple functions we will need\n",
    "def instantaneousPhase(sig):\n",
    "    h = hilbert(sig)\n",
    "    return np.angle(h)\n",
    "\n",
    "def pli(sig1, sig2):\n",
    "    instPhase1 = instantaneousPhase(sig1)\n",
    "    instPhase2 = instantaneousPhase(sig2)\n",
    "    phaseDiff = instPhase1 - instPhase2\n",
    "    phaseDiff = (phaseDiff + np.pi) % (2*np.pi) - np.pi\n",
    "    pli = abs(np.mean(np.sign(phaseDiff)))\n",
    "    return pli\n",
    "\n",
    "def adj_matrix(pd_df):\n",
    "    channels = pd_df.columns[1:20]\n",
    "    adjMatrix = np.zeros((len(channels), len(channels)))\n",
    "\n",
    "    for i in range(len(channels)):\n",
    "        for j in range(len(channels)):\n",
    "            sig1 = pd_df[channels[i]].values\n",
    "            sig2 = pd_df[channels[j]].values\n",
    "            thispli = pli(sig1, sig2)\n",
    "            adjMatrix[i, j] = thispli\n",
    "\n",
    "    return adjMatrix\n",
    "    \n",
    "\n",
    "\n",
    "adjMatrices = {}\n",
    "\n",
    "for band in band_names:\n",
    "    df = df_bands_rest[band]\n",
    "    unique_patient_ids = df.select(\"patient_id\").distinct().toPandas()['patient_id'].values\n",
    "    display(unique_patient_ids)\n",
    "    adjMatrices[band] = []\n",
    "    for ptid in unique_patient_ids:\n",
    "        display(ptid)\n",
    "        pd_df = df.filter(df.patient_id == ptid).toPandas()\n",
    "        adjMatrix = adj_matrix(pd_df)\n",
    "        adjMatrices[band].append(adjMatrix)"
   ]
  },
  {
   "cell_type": "code",
   "execution_count": 0,
   "metadata": {
    "application/vnd.databricks.v1+cell": {
     "cellMetadata": {
      "byteLimit": 2048000,
      "rowLimit": 10000
     },
     "inputWidgets": {},
     "nuid": "f651cac1-f038-46c7-8f28-37d1f9d738be",
     "showTitle": false,
     "title": ""
    }
   },
   "outputs": [],
   "source": [
    "import matplotlib.pyplot as plt\n",
    "def plot_heatmap(adjMatrix, ptid, bandname):\n",
    "    # Plot the heatmap\n",
    "    im = plt.matshow(adjMatrix, cmap='Spectral_r')\n",
    "\n",
    "    # Add a colorbar to show the scale\n",
    "    plt.colorbar(im,fraction=0.046, pad=0.04)\n",
    "\n",
    "    # Remove the axis numbers\n",
    "    plt.xticks([])\n",
    "    plt.yticks([])\n",
    "       \n",
    "    plt.title(f\"PtID: {ptid}, Band: {bandname}\")\n",
    "\n",
    "    # Show the plot\n",
    "    plt.show()\n",
    "\n",
    "\n",
    "for band in band_names:\n",
    "    adjMatrixList = adjMatrices[band]\n",
    "    plot_heatmap(adjMatrixList[0], 'S11', band)\n",
    "    plot_heatmap(adjMatrixList[1], \"H13\", band)"
   ]
  },
  {
   "cell_type": "code",
   "execution_count": 0,
   "metadata": {
    "application/vnd.databricks.v1+cell": {
     "cellMetadata": {
      "byteLimit": 2048000,
      "rowLimit": 10000
     },
     "inputWidgets": {},
     "nuid": "05ea363a-1a5c-45f7-99b9-84c4f5467f24",
     "showTitle": false,
     "title": ""
    }
   },
   "outputs": [],
   "source": [
    "import matplotlib.pyplot as plt\n",
    "import networkx as nx\n",
    "def plot_graph(adjMatrix, ptid, bandname):\n",
    "    pos = {\n",
    "    'Fp1': (-3.15, 6.85),\n",
    "    'F7': (-8.10, 4.17),\n",
    "    'F3': (-4.05, 3.83), \n",
    "    'Fz': (0, 3.6),\n",
    "    'F4': (4.05, 3.83),\n",
    "    'F8': (8.10, 4.17),\n",
    "    'T3': (-10.1,0), \n",
    "    'C3': (-5,0),\n",
    "    'Cz': (0,0),\n",
    "    'C4': (5,0),\n",
    "    'T4': (10.1,0), \n",
    "    'T5': (-8.10, -4.17), \n",
    "    'P3': (-4.05, -3.83),\n",
    "    'Pz': (0, -3.6),\n",
    "    'P4': (4.05, -3.83),\n",
    "    'T6': (8.10, -4.17),\n",
    "    'O1': (-3.15, -6.85),\n",
    "    'O2': (3.15, -6.85),\n",
    "    'Fp2': (3.15, 6.85)\n",
    "    }\n",
    "    nodesList = list(pos.keys())\n",
    "    # Create a new graph\n",
    "    G = nx.Graph()\n",
    "\n",
    "    # Add nodes with positions\n",
    "    for node, position in pos.items():\n",
    "        G.add_node(node, pos=position)\n",
    "\n",
    "    # Add edges between nodes (optional, depending on your graph's needs)\n",
    "    # Example: G.add_edge('Cz', 'C2h')\n",
    "    # Add your edges here based on your graph's structure\n",
    "\n",
    "    # loop through the connections, assume undirected graph for now and ignore self connections\n",
    "    numNodes = adjMatrix.shape[0]\n",
    "    adjMatrixMean = np.mean(adjMatrix)\n",
    "    adjMatrixSigma = np.std(adjMatrix)\n",
    "\n",
    "\n",
    "    for i in range(numNodes):\n",
    "        for j in range(i+1, numNodes):\n",
    "            # get the mean connectivity weight\n",
    "            if adjMatrix[i, j] > adjMatrixMean + 2*adjMatrixSigma:\n",
    "                # add an edge here\n",
    "                G.add_edge(nodesList[i], nodesList[j])\n",
    "                \n",
    "\n",
    "\n",
    "    # Draw the graph\n",
    "    nx.draw(G, pos, with_labels=True, node_size=700, node_color=\"skyblue\", font_size=10)\n",
    "    plt.title(f\"PtID: {ptid}, Band: {bandname}\")\n",
    "    plt.show()\n",
    "\n",
    "for band in band_names:\n",
    "    adjMatrixList = adjMatrices[band]\n",
    "    plot_graph(adjMatrixList[0], 'S11', band)\n",
    "    plot_graph(adjMatrixList[1], \"H13\", band)\n",
    "    #for matrix in adjMatrixList:\n",
    "        #plot_graph(matrix, )"
   ]
  },
  {
   "cell_type": "code",
   "execution_count": 0,
   "metadata": {
    "application/vnd.databricks.v1+cell": {
     "cellMetadata": {},
     "inputWidgets": {},
     "nuid": "faaacba8-2b46-49a7-b432-fa00c898d7cc",
     "showTitle": false,
     "title": ""
    }
   },
   "outputs": [],
   "source": []
  }
 ],
 "metadata": {
  "application/vnd.databricks.v1+notebook": {
   "dashboards": [
    {
     "elements": [
      {
       "dashboardResultIndex": 0,
       "elementNUID": "05ea363a-1a5c-45f7-99b9-84c4f5467f24",
       "elementType": "command",
       "guid": "02b0ce3f-d0d3-44a9-88bf-bce5a0bbd35c",
       "options": null,
       "position": {
        "height": 10,
        "width": 12,
        "x": 0,
        "y": 0,
        "z": null
       },
       "resultIndex": null
      },
      {
       "dashboardResultIndex": 3,
       "elementNUID": "05ea363a-1a5c-45f7-99b9-84c4f5467f24",
       "elementType": "command",
       "guid": "158fed5f-7533-4f18-b9a2-d22e3397528a",
       "options": null,
       "position": {
        "height": 10,
        "width": 12,
        "x": 12,
        "y": 10,
        "z": null
       },
       "resultIndex": null
      },
      {
       "dashboardResultIndex": 4,
       "elementNUID": "05ea363a-1a5c-45f7-99b9-84c4f5467f24",
       "elementType": "command",
       "guid": "25cc8bed-50ca-4c60-a2f0-1e3c262b6922",
       "options": null,
       "position": {
        "height": 10,
        "width": 12,
        "x": 0,
        "y": 20,
        "z": null
       },
       "resultIndex": null
      },
      {
       "dashboardResultIndex": 5,
       "elementNUID": "05ea363a-1a5c-45f7-99b9-84c4f5467f24",
       "elementType": "command",
       "guid": "3e790fd5-4530-4e88-9896-d4a98144b47b",
       "options": null,
       "position": {
        "height": 10,
        "width": 12,
        "x": 12,
        "y": 20,
        "z": null
       },
       "resultIndex": null
      },
      {
       "dashboardResultIndex": 8,
       "elementNUID": "05ea363a-1a5c-45f7-99b9-84c4f5467f24",
       "elementType": "command",
       "guid": "474dea8d-eeed-4690-93c6-44f8cfb32869",
       "options": null,
       "position": {
        "height": 10,
        "width": 12,
        "x": 0,
        "y": 40,
        "z": null
       },
       "resultIndex": null
      },
      {
       "dashboardResultIndex": 2,
       "elementNUID": "05ea363a-1a5c-45f7-99b9-84c4f5467f24",
       "elementType": "command",
       "guid": "b75cf065-d533-4c63-b5a0-47f590831d0e",
       "options": null,
       "position": {
        "height": 10,
        "width": 12,
        "x": 0,
        "y": 10,
        "z": null
       },
       "resultIndex": null
      },
      {
       "dashboardResultIndex": 1,
       "elementNUID": "05ea363a-1a5c-45f7-99b9-84c4f5467f24",
       "elementType": "command",
       "guid": "cf3185ac-a8ef-4a67-b687-c2d32546fad4",
       "options": {
        "autoScaleImg": false,
        "scale": 0,
        "showTitle": false,
        "titleAlign": "center"
       },
       "position": {
        "height": 10,
        "width": 12,
        "x": 12,
        "y": 0,
        "z": null
       },
       "resultIndex": null
      },
      {
       "dashboardResultIndex": 6,
       "elementNUID": "05ea363a-1a5c-45f7-99b9-84c4f5467f24",
       "elementType": "command",
       "guid": "e1d5ee08-aafb-471a-9434-ac3f8a8d72f7",
       "options": null,
       "position": {
        "height": 10,
        "width": 12,
        "x": 0,
        "y": 30,
        "z": null
       },
       "resultIndex": null
      },
      {
       "dashboardResultIndex": 9,
       "elementNUID": "05ea363a-1a5c-45f7-99b9-84c4f5467f24",
       "elementType": "command",
       "guid": "f708c853-1694-4c44-94eb-fb948d6de775",
       "options": null,
       "position": {
        "height": 10,
        "width": 12,
        "x": 12,
        "y": 40,
        "z": null
       },
       "resultIndex": null
      },
      {
       "dashboardResultIndex": 7,
       "elementNUID": "05ea363a-1a5c-45f7-99b9-84c4f5467f24",
       "elementType": "command",
       "guid": "ff3fc140-8626-42e0-ad5f-1ae9b3b57a62",
       "options": null,
       "position": {
        "height": 10,
        "width": 12,
        "x": 12,
        "y": 30,
        "z": null
       },
       "resultIndex": null
      }
     ],
     "globalVars": {},
     "guid": "",
     "layoutOption": {
      "grid": true,
      "stack": true
     },
     "nuid": "e04ca68f-6aa4-4de7-b112-ac3a8e71a823",
     "origId": 3554137769111339,
     "title": "PLI_View",
     "version": "DashboardViewV1",
     "width": 1024
    },
    {
     "elements": [
      {
       "dashboardResultIndex": 3,
       "elementNUID": "f651cac1-f038-46c7-8f28-37d1f9d738be",
       "elementType": "command",
       "guid": "03822c69-c0ae-4e69-8c26-b9811e38ca73",
       "options": null,
       "position": {
        "height": 10,
        "width": 12,
        "x": 12,
        "y": 10,
        "z": null
       },
       "resultIndex": null
      },
      {
       "dashboardResultIndex": 5,
       "elementNUID": "f651cac1-f038-46c7-8f28-37d1f9d738be",
       "elementType": "command",
       "guid": "059dd691-a3c9-49a8-9999-5a39c24eb497",
       "options": null,
       "position": {
        "height": 10,
        "width": 12,
        "x": 12,
        "y": 20,
        "z": null
       },
       "resultIndex": null
      },
      {
       "dashboardResultIndex": 4,
       "elementNUID": "f651cac1-f038-46c7-8f28-37d1f9d738be",
       "elementType": "command",
       "guid": "0938e138-bd53-4d52-89a2-39630b9128d8",
       "options": null,
       "position": {
        "height": 10,
        "width": 12,
        "x": 0,
        "y": 20,
        "z": null
       },
       "resultIndex": null
      },
      {
       "dashboardResultIndex": 2,
       "elementNUID": "f651cac1-f038-46c7-8f28-37d1f9d738be",
       "elementType": "command",
       "guid": "5f7d8997-91c4-4c08-a410-77aac7ee4c1b",
       "options": null,
       "position": {
        "height": 10,
        "width": 12,
        "x": 0,
        "y": 10,
        "z": null
       },
       "resultIndex": null
      },
      {
       "dashboardResultIndex": 9,
       "elementNUID": "f651cac1-f038-46c7-8f28-37d1f9d738be",
       "elementType": "command",
       "guid": "9f1275c6-a316-4a84-9720-775856ec4667",
       "options": null,
       "position": {
        "height": 10,
        "width": 12,
        "x": 12,
        "y": 40,
        "z": null
       },
       "resultIndex": null
      },
      {
       "dashboardResultIndex": 1,
       "elementNUID": "f651cac1-f038-46c7-8f28-37d1f9d738be",
       "elementType": "command",
       "guid": "b6ade6d3-46a9-4139-a6c4-3c970d9e1f8f",
       "options": null,
       "position": {
        "height": 10,
        "width": 12,
        "x": 12,
        "y": 0,
        "z": null
       },
       "resultIndex": null
      },
      {
       "dashboardResultIndex": 8,
       "elementNUID": "f651cac1-f038-46c7-8f28-37d1f9d738be",
       "elementType": "command",
       "guid": "d89a571f-952f-4b09-8435-e61ec78db8cf",
       "options": null,
       "position": {
        "height": 10,
        "width": 12,
        "x": 0,
        "y": 40,
        "z": null
       },
       "resultIndex": null
      },
      {
       "dashboardResultIndex": 0,
       "elementNUID": "f651cac1-f038-46c7-8f28-37d1f9d738be",
       "elementType": "command",
       "guid": "f1b4e41a-6f73-437c-af87-3116cd536575",
       "options": null,
       "position": {
        "height": 10,
        "width": 12,
        "x": 0,
        "y": 0,
        "z": null
       },
       "resultIndex": null
      },
      {
       "dashboardResultIndex": 7,
       "elementNUID": "f651cac1-f038-46c7-8f28-37d1f9d738be",
       "elementType": "command",
       "guid": "f21165b9-b0a4-4910-bf8a-a679d68051ec",
       "options": null,
       "position": {
        "height": 10,
        "width": 12,
        "x": 12,
        "y": 30,
        "z": null
       },
       "resultIndex": null
      },
      {
       "dashboardResultIndex": 6,
       "elementNUID": "f651cac1-f038-46c7-8f28-37d1f9d738be",
       "elementType": "command",
       "guid": "ff1be70b-4287-43f9-a414-91df8e6d5ea3",
       "options": null,
       "position": {
        "height": 10,
        "width": 12,
        "x": 0,
        "y": 30,
        "z": null
       },
       "resultIndex": null
      }
     ],
     "globalVars": {},
     "guid": "",
     "layoutOption": {
      "grid": true,
      "stack": true
     },
     "nuid": "ce3ee91a-7120-4182-b211-1042d2a52aa7",
     "origId": 3554137769111343,
     "title": "PLI_View_Adj_Matrix",
     "version": "DashboardViewV1",
     "width": 1024
    }
   ],
   "environmentMetadata": null,
   "language": "python",
   "notebookMetadata": {
    "pythonIndentUnit": 4
   },
   "notebookName": "06_create_PLI_gold_table",
   "widgets": {}
  }
 },
 "nbformat": 4,
 "nbformat_minor": 0
}
