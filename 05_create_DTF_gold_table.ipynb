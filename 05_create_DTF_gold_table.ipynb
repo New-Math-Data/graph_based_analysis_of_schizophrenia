{
 "cells": [
  {
   "cell_type": "markdown",
   "metadata": {
    "application/vnd.databricks.v1+cell": {
     "cellMetadata": {
      "byteLimit": 2048000,
      "rowLimit": 10000
     },
     "inputWidgets": {},
     "nuid": "9dd7278a-27b0-4883-9eab-f1f2d06776e2",
     "showTitle": false,
     "title": ""
    }
   },
   "source": [
    "### Overview - Graphing brain connectivity in schizophrenia from EEG data - Create DTF Graphs and Gold Table\n",
    "\n",
    "EEG analysis was carried out using:\n",
    "1. the raw EEG data, \n",
    "as well as the re-referenced data: \n",
    "2. the Average Reference Method and\n",
    "3. the Zero Reference Method.\n",
    "This allowed us to explore how the choice of reference electrode impacts connectivity outcomes.\n",
    "\n",
    "EEG data were analyzed using three connectivity methods: Phase-Locking Value (PLV), Phase-Lag Index (PLI), and Directed Transfer Function (DTF), and statistical indices based on graph theory. \n",
    "\n",
    "##### In this notebook we will:\n",
    "  * Graph analysis of EEG data measuring connectivity using three connectivity measures:\n",
    "    * Directed Transfer Function (DTF)\n",
    "    * Phase-Locking Value (PLV)\n",
    "    * Phase-Lag Index (PLI)\n",
    "##### This Notebook will use Directed Transfer Function (DTF)"
   ]
  },
  {
   "cell_type": "markdown",
   "metadata": {
    "application/vnd.databricks.v1+cell": {
     "cellMetadata": {
      "byteLimit": 2048000,
      "rowLimit": 10000
     },
     "inputWidgets": {},
     "nuid": "5b8609d5-2f08-443f-99d1-d1cbc8436997",
     "showTitle": false,
     "title": ""
    }
   },
   "source": [
    "###### We need to convert the REST Reference Method PySpark Dataframe to a Pandas Dataframe so we can use with the scipy, mne and numpy packages"
   ]
  },
  {
   "cell_type": "code",
   "execution_count": 0,
   "metadata": {
    "application/vnd.databricks.v1+cell": {
     "cellMetadata": {
      "byteLimit": 2048000,
      "rowLimit": 10000
     },
     "inputWidgets": {},
     "nuid": "3aeb4936-8434-47a1-861e-33bdcc6b5dff",
     "showTitle": false,
     "title": ""
    }
   },
   "outputs": [],
   "source": [
    "# Load the data from the Butterworth Filtered Data REST Tables\n",
    "band_names = [\"delta\",\"theta\", \"alpha\", \"beta\", \"gamma\"]\n",
    "\n",
    "df_bands_rest = {}\n",
    "# Create Pandas DataFrames\n",
    "for band in band_names:\n",
    "    df_bands_rest[band] = spark.sql(f\"SELECT * FROM main.solution_accelerator.butter_rest_{band}_gold ORDER BY time ASC\").toPandas()\n",
    "\n",
    "display(df_bands_rest[band])"
   ]
  },
  {
   "cell_type": "markdown",
   "metadata": {
    "application/vnd.databricks.v1+cell": {
     "cellMetadata": {
      "byteLimit": 2048000,
      "rowLimit": 10000
     },
     "inputWidgets": {},
     "nuid": "3275170a-db92-4461-bd50-3f5134ceeb6f",
     "showTitle": false,
     "title": ""
    }
   },
   "source": [
    "###### We need to convert the Average Reference Method PySpark Dataframe to a Pandas Dataframe so we can use with the scipy, mne and numpy packages"
   ]
  },
  {
   "cell_type": "code",
   "execution_count": 0,
   "metadata": {
    "application/vnd.databricks.v1+cell": {
     "cellMetadata": {
      "byteLimit": 2048000,
      "rowLimit": 10000
     },
     "inputWidgets": {},
     "nuid": "936226df-2b42-4790-bbbf-3a478c884108",
     "showTitle": false,
     "title": ""
    }
   },
   "outputs": [],
   "source": [
    "# Create PySpark DataFrames\n",
    "df_bands_avg = {}\n",
    "for band in band_names:\n",
    "    df_bands_avg[band] = spark.sql(f\"SELECT * FROM main.solution_accelerator.butter_avg_{band}_gold WHERE patient_id in ('s11', 'h13') ORDER BY time ASC\").toPandas()\n",
    "display(df_bands_avg[band])\n"
   ]
  },
  {
   "cell_type": "markdown",
   "metadata": {
    "application/vnd.databricks.v1+cell": {
     "cellMetadata": {
      "byteLimit": 2048000,
      "rowLimit": 10000
     },
     "inputWidgets": {},
     "nuid": "596edade-1725-42ba-b078-d51ff17fc8aa",
     "showTitle": false,
     "title": ""
    }
   },
   "source": [
    "##### Graph analysis of EEG data measuring connectivity using Directed Transfer Function (DTF) connectivity measure"
   ]
  },
  {
   "cell_type": "code",
   "execution_count": 0,
   "metadata": {
    "application/vnd.databricks.v1+cell": {
     "cellMetadata": {
      "byteLimit": 2048000,
      "rowLimit": 10000
     },
     "inputWidgets": {},
     "nuid": "9bf38b5a-3e0c-40e7-818d-805e8d85d515",
     "showTitle": false,
     "title": ""
    }
   },
   "outputs": [],
   "source": [
    "pip install mne"
   ]
  },
  {
   "cell_type": "markdown",
   "metadata": {
    "application/vnd.databricks.v1+cell": {
     "cellMetadata": {
      "byteLimit": 2048000,
      "rowLimit": 10000
     },
     "inputWidgets": {},
     "nuid": "5c16b200-1a6b-4374-8df7-70e62f763c12",
     "showTitle": false,
     "title": ""
    }
   },
   "source": [
    "##### Directed Transfer Function (DTF)\n",
    "Directed Transfer Function (DTF) is a frequency-domain measure derived from multivariate autoregressive (MVAR) modeling of EEG signals. It estimates the directed influence or connectivity between different brain regions in the frequency domain."
   ]
  },
  {
   "cell_type": "code",
   "execution_count": 0,
   "metadata": {
    "application/vnd.databricks.v1+cell": {
     "cellMetadata": {
      "byteLimit": 2048000,
      "rowLimit": 10000
     },
     "inputWidgets": {},
     "nuid": "e4d7aa4a-7ec6-46fb-9c7b-b616514e8e39",
     "showTitle": false,
     "title": ""
    }
   },
   "outputs": [],
   "source": [
    "# Helper library with many built-in functions\n",
    "%pip install mne"
   ]
  },
  {
   "cell_type": "code",
   "execution_count": 0,
   "metadata": {
    "application/vnd.databricks.v1+cell": {
     "cellMetadata": {
      "byteLimit": 2048000,
      "rowLimit": 10000
     },
     "inputWidgets": {},
     "nuid": "3ebd13da-f1f5-4913-a665-4221235b178a",
     "showTitle": false,
     "title": ""
    }
   },
   "outputs": [],
   "source": [
    "import mne\n",
    "import numpy as np\n",
    "from scipy.signal import coherence, csd\n",
    "from numpy.linalg import inv\n",
    "\n",
    "def compute_dtf(data, sfreq, freq_band, n_channels):\n",
    "    \"\"\"\n",
    "    Compute Directed Transfer Function (DTF) for EEG data.\n",
    "    \n",
    "    Parameters:\n",
    "    data : np.ndarray\n",
    "        Multichannel time series data (channels x time points).\n",
    "    sfreq : float\n",
    "        Sampling frequency of the data.\n",
    "    freq_band : tuple\n",
    "        Frequency band for DTF calculation (e.g., (8, 12) for alpha band).\n",
    "    n_channels : int\n",
    "        Number of channels.\n",
    "        \n",
    "    Returns:\n",
    "    dtf : np.ndarray\n",
    "        Directed Transfer Function matrix (channels x channels x frequencies).\n",
    "    \"\"\"\n",
    "    n_times = data.shape[1]\n",
    "    freqs = np.fft.rfftfreq(n_times, 1/sfreq)\n",
    "    freq_mask = (freqs >= freq_band[0]) & (freqs <= freq_band[1])\n",
    "\n",
    "    # Compute Cross-Spectral Density (CSD) matrix\n",
    "    csd_matrix = np.zeros((n_channels, n_channels, len(freqs)), dtype=complex)\n",
    "    for i in range(n_channels):\n",
    "        for j in range(n_channels):\n",
    "            f, Pxy = csd(data[i], data[j], sfreq, nperseg=n_times)\n",
    "            csd_matrix[i, j, :] = Pxy\n",
    "\n",
    "    # Compute DTF\n",
    "    dtf = np.zeros((n_channels, n_channels, len(freqs)))\n",
    "    for f_idx, freq in enumerate(freqs):\n",
    "        if freq_mask[f_idx]:\n",
    "            H = np.zeros((n_channels, n_channels), dtype=complex)\n",
    "            for i in range(n_channels):\n",
    "                for j in range(n_channels):\n",
    "                    H[i, j] = csd_matrix[i, j, f_idx]\n",
    "\n",
    "            H_inv = inv(H)\n",
    "            for i in range(n_channels):\n",
    "                for j in range(n_channels):\n",
    "                    dtf[i, j, f_idx] = np.abs(H_inv[i, j])**2 / np.sum(np.abs(H_inv[i, :])**2)\n",
    "    return dtf\n",
    "\n",
    "# Define the sampling frequency (in Hz)\n",
    "sampling_freq = 250 \n",
    "\n",
    "# Define frequency bands\n",
    "frequency_bands = {\n",
    "    'delta': (2, 4),\n",
    "    'theta': (4.5, 7.5),\n",
    "    'alpha': (8, 12.5),\n",
    "    'beta': (13, 30),\n",
    "    'gamma': (30, 45)\n",
    "}\n",
    "\n",
    "times: []\n",
    "channel_names: []\n",
    "\n",
    "# Transpose data for each band and store in a dictionary\n",
    "transposed_data = {}\n",
    "for band in band_names:\n",
    "    if band['patient_id'] == 's11' or band['patient_id'] == 'h13':\n",
    "        # Get the times\n",
    "        times = df_bands_rest[band]['time'].values.tolist()\n",
    "\n",
    "        # Get channel names as a list. Drop columns that are not electrode channels\n",
    "        columns_to_drop = ['patient_id', 'time']\n",
    "        channel_names = df_bands_rest[band].columns.drop(*columns_to_drop).tolist()\n",
    "\n",
    "        # Extract data for the current band and transpose\n",
    "        rest_data_T= df_bands_rest[band][channel_names].values.T  # Transpose to get shape (n_channels, n_times)\n",
    "\n",
    "        # Store transposed data in the dictionary\n",
    "        transposed_data[band] = rest_data_T\n",
    "\n",
    "        print(f\"LEN of channels::{len(channel_names)}\")\n",
    "        print(f\"frequency_bands.items()::{frequency_bands.items()}\")\n",
    "\n",
    "        # Compute DTF, `data` with shape (channels x time points)\n",
    "        for band_name, freq_range in frequency_bands.items():\n",
    "            dtf = compute_dtf(data=transposed_data[band], sfreq=sampling_freq, freq_band=freq_range, n_channels=len(channel_names))\n",
    "            print(dtf[-1])"
   ]
  }
 ],
 "metadata": {
  "application/vnd.databricks.v1+notebook": {
   "dashboards": [
    {
     "elements": [],
     "globalVars": {},
     "guid": "",
     "layoutOption": {
      "grid": true,
      "stack": true
     },
     "nuid": "2edfc3e1-1d14-4238-aa82-e049cd21fef7",
     "origId": 146926676179412,
     "title": "SA_Graphing_Schizophrenia",
     "version": "DashboardViewV1",
     "width": 1024
    }
   ],
   "environmentMetadata": null,
   "language": "python",
   "notebookMetadata": {
    "pythonIndentUnit": 4
   },
   "notebookName": "05_create_DTF_gold_table",
   "widgets": {}
  }
 },
 "nbformat": 4,
 "nbformat_minor": 0
}
